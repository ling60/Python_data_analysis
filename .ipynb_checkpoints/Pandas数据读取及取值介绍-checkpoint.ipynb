{
 "cells": [
  {
   "cell_type": "markdown",
   "metadata": {},
   "source": [
    "## Pandas\n",
    "\n",
    "Pandas是数据分析和科学领域最常用的包，以table表格为主要数据类型\n",
    "\n",
    "* 官方文档： https://pandas.pydata.org/docs/user_guide/index.html#user-guide\n",
    "\n",
    "* 非官方中文文档：\n",
    "  https://www.pypandas.cn/docs/user_guide/\n",
    "\n",
    "Pandas两种主要的数据类型：\n",
    "- series：Numpy array + index组成的字典\n",
    "- dataframe：series 组成的字典"
   ]
  },
  {
   "cell_type": "markdown",
   "metadata": {},
   "source": [
    "## 引入pandas 及 numpy 包\n",
    "\n",
    "请注意下面第一行代码是引入pandas包，并且后续都用pd来做缩写。同样，第二行是引入numpy，然后用np做缩写。\n",
    "\n",
    "这两个缩写都是相对通用的缩写，尽量不要修改，同时在网上看到pd和np也可以更快的明白是代表着pandas 和 numpy\n",
    "\n",
    "因为Python及其相关的ecosystem都是在不断发展的，因此有时会出现新的版本更新旧的代码无法正常运行的情况，或者新的版本给出了更简化的代码。所以在网上看到代码时，要注意是否跟你目前的python以及相关包的版本一致。\n",
    "\n",
    "本教材所讲内容都是基于numpy1.1.3以及pandas1.19.2的版本"
   ]
  },
  {
   "cell_type": "code",
   "execution_count": 63,
   "metadata": {},
   "outputs": [
    {
     "name": "stdout",
     "output_type": "stream",
     "text": [
      "1.1.3\n",
      "1.19.2\n"
     ]
    }
   ],
   "source": [
    "import pandas as pd\n",
    "import numpy as np\n",
    "\n",
    "# 下面两行代码的意思是告诉你，目前所安装的\n",
    "print(pd.__version__)\n",
    "print(np.__version__)"
   ]
  },
  {
   "cell_type": "markdown",
   "metadata": {},
   "source": [
    "## 用pandas读入文件\n",
    "\n",
    "pandas可以读取不同‘表格’类型的数据，比如，如果需要读入csv文件，那么：\n",
    "\n",
    "```\n",
    "pd.read_csv('文件路径及名称包括csv后缀名')\n",
    "```\n",
    "\n",
    "其中第一个参数需要用**字符串**的类型输入文件的路径及名称，包括文件后缀名，在这里也就是 \".csv\"\n",
    "\n",
    "如果需要读入其他数据，在输入，pd.read_，后按<TAB>键可以看到各种不同的文件的读入，常用的有table, excel等。\n",
    "    \n",
    "读入后，我们可以把读入的内容赋值给一个变量，这个变量的类型就是dataframe\n"
   ]
  },
  {
   "cell_type": "code",
   "execution_count": 64,
   "metadata": {},
   "outputs": [
    {
     "name": "stdout",
     "output_type": "stream",
     "text": [
      "    日期    体温\n",
      "0    1  36.0\n",
      "1    2  36.2\n",
      "2    3  36.3\n",
      "3    4  36.8\n",
      "4    5  36.2\n",
      "5    6  36.1\n",
      "6    7  36.0\n",
      "7    8  36.2\n",
      "8    9  37.1\n",
      "9   10  36.4\n",
      "10  11  36.6\n",
      "11  12  36.1\n",
      "12  13  36.3\n",
      "13  14  36.2\n"
     ]
    }
   ],
   "source": [
    "# 读入保存在data文件夹里的Body_temp.csv文件\n",
    "df = pd.read_csv('data/Body_temp.csv')\n",
    "# 显示df的内容。当dataframe内容过多，也就是栏或者行过多时，往往中间的部分不会显示\n",
    "print(df)"
   ]
  },
  {
   "cell_type": "markdown",
   "metadata": {},
   "source": [
    "### pandas里的数据显示问题\n",
    "\n",
    "1. 最左边一列，从0-13的数字是在读取时默认添加的index，相当于行的序号\n",
    "2. 最上面一行，‘日期 体温’是原csv数据中的第一行，被默认作为每一列的名字，也就是 列名。\n",
    "3. 需要注意的是，如果我们的csv没有标题行，也就是说，第一行就是数据，\"1 36.0\"那么，1和36.0就会被认为是 列名。相当于数据少了一行\n",
    "4. 如果需要额外添加列名，需要在读取时加入参数，names\n",
    "\n",
    "**建议仔细对比添加names参数前后，同样数据的差异**"
   ]
  },
  {
   "cell_type": "code",
   "execution_count": 65,
   "metadata": {},
   "outputs": [
    {
     "name": "stdout",
     "output_type": "stream",
     "text": [
      "     1     2\n",
      "0   日期    体温\n",
      "1    1    36\n",
      "2    2  36.2\n",
      "3    3  36.3\n",
      "4    4  36.8\n",
      "5    5  36.2\n",
      "6    6  36.1\n",
      "7    7    36\n",
      "8    8  36.2\n",
      "9    9  37.1\n",
      "10  10  36.4\n",
      "11  11  36.6\n",
      "12  12  36.1\n",
      "13  13  36.3\n",
      "14  14  36.2\n"
     ]
    }
   ],
   "source": [
    "# 在读取时加入参数，names，额外赋予列名\n",
    "df1 = pd.read_csv('data/Body_temp.csv', names=['1', '2'])\n",
    "# 请注意，这时，csv原有的第一行就变成了数据的一部分\n",
    "print(df1)"
   ]
  },
  {
   "cell_type": "markdown",
   "metadata": {},
   "source": [
    "5. 当dataframe内容过多，也就是栏或者行过多时，往往中间的部分不会显示\n",
    "6. 如果想修改pandas默认显示的行数，可以用options修改.比如下面代码就是修改为显示999行\n",
    "\n",
    "```\n",
    "pd.options.display.max_rows = 999\n",
    "```"
   ]
  },
  {
   "cell_type": "markdown",
   "metadata": {},
   "source": [
    "## 选取dataframe里面的一列\n",
    "\n",
    "选取一列最简单的方法是：\n",
    "\n",
    "```\n",
    "df[列名]\n",
    "```\n",
    "\n",
    "其中，列名需要用字符串的类型传递"
   ]
  },
  {
   "cell_type": "code",
   "execution_count": 66,
   "metadata": {},
   "outputs": [
    {
     "name": "stdout",
     "output_type": "stream",
     "text": [
      "0      1\n",
      "1      2\n",
      "2      3\n",
      "3      4\n",
      "4      5\n",
      "5      6\n",
      "6      7\n",
      "7      8\n",
      "8      9\n",
      "9     10\n",
      "10    11\n",
      "11    12\n",
      "12    13\n",
      "13    14\n",
      "Name: 日期, dtype: int64\n"
     ]
    }
   ],
   "source": [
    "print(df['日期'])"
   ]
  },
  {
   "cell_type": "markdown",
   "metadata": {},
   "source": [
    "### 用df.loc & df.iloc取多行、多列、或某个单元格\n",
    "\n",
    "两个方法用法相似，不同的是，.loc后面需要添加具体的行或者列的**名字**（label）,而.iloc后面需要添加的是行或者列的位置（index），也就是0，1，2，3，。。。。这些数字\n",
    "\n",
    "```\n",
    "df.loc[,]\n",
    "\n",
    "```\n",
    "需要注意的是，因为两个方法的目的是取值，不是调用方法的概念，所以，后面跟着中括号，而不是小括号。中括号钟以逗号“，”分隔,前面为指定的行，后面为指定的列。只取一行或一列的时候，直接输入一个值；需取多行或多列时，需要用list的类型传递。如果需要取全部的行或列，用 冒号表示“:”\n",
    "\n",
    "\n",
    "具体用法：\n",
    "\n",
    "```\n",
    "df.loc[此处为行的名字label（具体类型以label自身的类型为准）,此处为列的名字label（具体类型以label自身的类型为准）]\n",
    "df.iloc[,]\n",
    "```\n",
    "\n",
    "请注意，在我们的例子中，行的label刚好跟其位置一致，都是0，1，2，3...因此在loc和iloc使用无差别。但是列的名字是 日期和体温，但位置则为0，1"
   ]
  },
  {
   "cell_type": "code",
   "execution_count": 67,
   "metadata": {},
   "outputs": [
    {
     "data": {
      "text/plain": [
       "36.0"
      ]
     },
     "execution_count": 67,
     "metadata": {},
     "output_type": "execute_result"
    }
   ],
   "source": [
    "df.loc[0,'体温']"
   ]
  },
  {
   "cell_type": "code",
   "execution_count": 68,
   "metadata": {},
   "outputs": [
    {
     "data": {
      "text/plain": [
       "0     36.0\n",
       "1     36.2\n",
       "2     36.3\n",
       "3     36.8\n",
       "4     36.2\n",
       "5     36.1\n",
       "6     36.0\n",
       "7     36.2\n",
       "8     37.1\n",
       "9     36.4\n",
       "10    36.6\n",
       "11    36.1\n",
       "12    36.3\n",
       "13    36.2\n",
       "Name: 体温, dtype: float64"
      ]
     },
     "execution_count": 68,
     "metadata": {},
     "output_type": "execute_result"
    }
   ],
   "source": [
    "df.loc[:,'体温']"
   ]
  },
  {
   "cell_type": "code",
   "execution_count": 69,
   "metadata": {},
   "outputs": [
    {
     "data": {
      "text/plain": [
       "日期     1.0\n",
       "体温    36.0\n",
       "Name: 0, dtype: float64"
      ]
     },
     "execution_count": 69,
     "metadata": {},
     "output_type": "execute_result"
    }
   ],
   "source": [
    "df.iloc[0,:]"
   ]
  },
  {
   "cell_type": "markdown",
   "metadata": {},
   "source": [
    "### 获取到的值的数据类型\n",
    "\n",
    "1. 当获取的是整行或整列，通常数据类型为series\n",
    "2. 获取的是多行多列，数据类型往往为dataframe\n",
    "3. 只获取某一个单元格的值，数据类型往往为该单元格所对应的值的实际类型\n",
    "4. 强烈建议取值之后用type看一下"
   ]
  },
  {
   "cell_type": "code",
   "execution_count": 70,
   "metadata": {},
   "outputs": [
    {
     "data": {
      "text/plain": [
       "pandas.core.series.Series"
      ]
     },
     "execution_count": 70,
     "metadata": {},
     "output_type": "execute_result"
    }
   ],
   "source": [
    "type(df.iloc[0,:])"
   ]
  },
  {
   "cell_type": "markdown",
   "metadata": {},
   "source": [
    "### 该如何获得具体的数值？\n",
    "\n",
    "如上所述，取值后通常我们得到的数据类型是pandas里面的df或者series数据类型。但往往我们还需要针对里面的具体数值进行计算或进一步处理。比如，我们想选取所有的体温，求平均值该如何做？\n",
    "\n",
    "其中一个非常重要的获取所对应的“数值”的方式是在取值后面加 “.values”， **注意**因为这个values是获取属性，不是方法，因此后面没有括号"
   ]
  },
  {
   "cell_type": "code",
   "execution_count": 71,
   "metadata": {},
   "outputs": [
    {
     "name": "stdout",
     "output_type": "stream",
     "text": [
      "[36.  36.2 36.3 36.8 36.2 36.1 36.  36.2 37.1 36.4 36.6 36.1 36.3 36.2]\n",
      "<class 'numpy.ndarray'>\n"
     ]
    }
   ],
   "source": [
    "print(df['体温'].values)\n",
    "print(type(df['体温'].values))"
   ]
  },
  {
   "cell_type": "markdown",
   "metadata": {},
   "source": [
    "通过上面代码可以看到，获得是一组数值，也就是体温这列里面所有的数值，这一组数值的数据类型是numpy里面的arrary。\n",
    "\n",
    "## numpy array\n",
    "\n",
    "这个array跟list几乎一样，比如index,slice的方式都一样。\n",
    "\n",
    "但是array功能更为强大。最方便的地方在于，支持大量的数学运算，比如，对全部的值乘二, 及求平均值\n",
    "\n",
    "更多的就请用<TAB>键自己探索吧"
   ]
  },
  {
   "cell_type": "code",
   "execution_count": 72,
   "metadata": {},
   "outputs": [
    {
     "name": "stdout",
     "output_type": "stream",
     "text": [
      "[72.  72.4 72.6 73.6 72.4 72.2 72.  72.4 74.2 72.8 73.2 72.2 72.6 72.4]\n",
      "[36.  36.2 36.3 36.8 36.2 36.1 36.  36.2 37.1 36.4 36.6 36.1 36.3 36.2]\n"
     ]
    }
   ],
   "source": [
    "temps = df['体温'].values\n",
    "print(temps*2)\n",
    "print(temps)"
   ]
  },
  {
   "cell_type": "code",
   "execution_count": 73,
   "metadata": {},
   "outputs": [
    {
     "data": {
      "text/plain": [
       "36.0"
      ]
     },
     "execution_count": 73,
     "metadata": {},
     "output_type": "execute_result"
    }
   ],
   "source": [
    "temps[0]"
   ]
  },
  {
   "cell_type": "code",
   "execution_count": 74,
   "metadata": {},
   "outputs": [
    {
     "data": {
      "text/plain": [
       "36.32142857142858"
      ]
     },
     "execution_count": 74,
     "metadata": {},
     "output_type": "execute_result"
    }
   ],
   "source": [
    "temps.mean()"
   ]
  },
  {
   "cell_type": "code",
   "execution_count": null,
   "metadata": {},
   "outputs": [],
   "source": []
  }
 ],
 "metadata": {
  "kernelspec": {
   "display_name": "Python 3",
   "language": "python",
   "name": "python3"
  },
  "language_info": {
   "codemirror_mode": {
    "name": "ipython",
    "version": 3
   },
   "file_extension": ".py",
   "mimetype": "text/x-python",
   "name": "python",
   "nbconvert_exporter": "python",
   "pygments_lexer": "ipython3",
   "version": "3.8.5"
  }
 },
 "nbformat": 4,
 "nbformat_minor": 4
}
